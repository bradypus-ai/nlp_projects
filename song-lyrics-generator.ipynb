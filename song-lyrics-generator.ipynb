{
 "cells": [
  {
   "cell_type": "markdown",
   "metadata": {
    "papermill": {
     "duration": 0.01877,
     "end_time": "2021-02-15T05:03:08.282023",
     "exception": false,
     "start_time": "2021-02-15T05:03:08.263253",
     "status": "completed"
    },
    "tags": []
   },
   "source": [
    "Hey,what's going on.Well I am fine and here I am going to do some fun by generating my own songs lyrics\n",
    "I will going to use text generation technique.Text Generation is a type of Language Modelling problem. Language Modelling is the core problem for a number of of natural language processing tasks such as speech to text, conversational system, and text summarization.\n",
    "Text Generation is one such task which can be be architectured using deep learning models, particularly Recurrent Neural Networks."
   ]
  },
  {
   "cell_type": "markdown",
   "metadata": {
    "papermill": {
     "duration": 0.017744,
     "end_time": "2021-02-15T05:03:08.317507",
     "exception": false,
     "start_time": "2021-02-15T05:03:08.299763",
     "status": "completed"
    },
    "tags": []
   },
   "source": [
    "Now first of all we are going to import libraries"
   ]
  },
  {
   "cell_type": "markdown",
   "metadata": {
    "papermill": {
     "duration": 0.017543,
     "end_time": "2021-02-15T05:03:08.352725",
     "exception": false,
     "start_time": "2021-02-15T05:03:08.335182",
     "status": "completed"
    },
    "tags": []
   },
   "source": [
    "# Import Libraries"
   ]
  },
  {
   "cell_type": "code",
   "execution_count": 1,
   "metadata": {
    "execution": {
     "iopub.execute_input": "2021-02-15T05:03:08.394280Z",
     "iopub.status.busy": "2021-02-15T05:03:08.393617Z",
     "iopub.status.idle": "2021-02-15T05:03:14.497689Z",
     "shell.execute_reply": "2021-02-15T05:03:14.496575Z"
    },
    "papermill": {
     "duration": 6.127615,
     "end_time": "2021-02-15T05:03:14.497902",
     "exception": false,
     "start_time": "2021-02-15T05:03:08.370287",
     "status": "completed"
    },
    "tags": []
   },
   "outputs": [],
   "source": [
    "import pandas as pd\n",
    "import numpy as np\n",
    "import seaborn as sns\n",
    "import matplotlib.pyplot as plt\n",
    "from wordcloud import WordCloud, STOPWORDS, ImageColorGenerator\n",
    "import string, os \n",
    "import tensorflow as tf\n",
    "\n",
    "# keras module for building LSTM \n",
    "from keras.preprocessing.sequence import pad_sequences\n",
    "from tensorflow.keras.layers import Embedding, Dropout, LSTM, Dense, Bidirectional \n",
    "from keras.preprocessing.text import Tokenizer\n",
    "from keras.callbacks import EarlyStopping\n",
    "from keras.models import Sequential\n",
    "\n",
    "import matplotlib.pyplot as plt\n",
    "import seaborn as sns"
   ]
  },
  {
   "cell_type": "code",
   "execution_count": 2,
   "metadata": {
    "execution": {
     "iopub.execute_input": "2021-02-15T05:03:14.543246Z",
     "iopub.status.busy": "2021-02-15T05:03:14.542724Z",
     "iopub.status.idle": "2021-02-15T05:03:19.388115Z",
     "shell.execute_reply": "2021-02-15T05:03:19.387055Z"
    },
    "papermill": {
     "duration": 4.871051,
     "end_time": "2021-02-15T05:03:19.388262",
     "exception": false,
     "start_time": "2021-02-15T05:03:14.517211",
     "status": "completed"
    },
    "tags": []
   },
   "outputs": [],
   "source": [
    "# csv file\n",
    "df = pd.read_csv('../input/scrapped-lyrics-from-6-genres/lyrics-data.csv')"
   ]
  },
  {
   "cell_type": "code",
   "execution_count": 3,
   "metadata": {
    "execution": {
     "iopub.execute_input": "2021-02-15T05:03:19.442805Z",
     "iopub.status.busy": "2021-02-15T05:03:19.442028Z",
     "iopub.status.idle": "2021-02-15T05:03:19.450835Z",
     "shell.execute_reply": "2021-02-15T05:03:19.451219Z"
    },
    "papermill": {
     "duration": 0.044865,
     "end_time": "2021-02-15T05:03:19.451354",
     "exception": false,
     "start_time": "2021-02-15T05:03:19.406489",
     "status": "completed"
    },
    "tags": []
   },
   "outputs": [
    {
     "data": {
      "text/html": [
       "<div>\n",
       "<style scoped>\n",
       "    .dataframe tbody tr th:only-of-type {\n",
       "        vertical-align: middle;\n",
       "    }\n",
       "\n",
       "    .dataframe tbody tr th {\n",
       "        vertical-align: top;\n",
       "    }\n",
       "\n",
       "    .dataframe thead th {\n",
       "        text-align: right;\n",
       "    }\n",
       "</style>\n",
       "<table border=\"1\" class=\"dataframe\">\n",
       "  <thead>\n",
       "    <tr style=\"text-align: right;\">\n",
       "      <th></th>\n",
       "      <th>ALink</th>\n",
       "      <th>SName</th>\n",
       "      <th>SLink</th>\n",
       "      <th>Lyric</th>\n",
       "      <th>Idiom</th>\n",
       "    </tr>\n",
       "  </thead>\n",
       "  <tbody>\n",
       "    <tr>\n",
       "      <th>0</th>\n",
       "      <td>/10000-maniacs/</td>\n",
       "      <td>More Than This</td>\n",
       "      <td>/10000-maniacs/more-than-this.html</td>\n",
       "      <td>I could feel at the time. There was no way of ...</td>\n",
       "      <td>ENGLISH</td>\n",
       "    </tr>\n",
       "    <tr>\n",
       "      <th>1</th>\n",
       "      <td>/10000-maniacs/</td>\n",
       "      <td>Because The Night</td>\n",
       "      <td>/10000-maniacs/because-the-night.html</td>\n",
       "      <td>Take me now, baby, here as I am. Hold me close...</td>\n",
       "      <td>ENGLISH</td>\n",
       "    </tr>\n",
       "    <tr>\n",
       "      <th>2</th>\n",
       "      <td>/10000-maniacs/</td>\n",
       "      <td>These Are Days</td>\n",
       "      <td>/10000-maniacs/these-are-days.html</td>\n",
       "      <td>These are. These are days you'll remember. Nev...</td>\n",
       "      <td>ENGLISH</td>\n",
       "    </tr>\n",
       "    <tr>\n",
       "      <th>3</th>\n",
       "      <td>/10000-maniacs/</td>\n",
       "      <td>A Campfire Song</td>\n",
       "      <td>/10000-maniacs/a-campfire-song.html</td>\n",
       "      <td>A lie to say, \"O my mountain has coal veins an...</td>\n",
       "      <td>ENGLISH</td>\n",
       "    </tr>\n",
       "    <tr>\n",
       "      <th>4</th>\n",
       "      <td>/10000-maniacs/</td>\n",
       "      <td>Everyday Is Like Sunday</td>\n",
       "      <td>/10000-maniacs/everyday-is-like-sunday.html</td>\n",
       "      <td>Trudging slowly over wet sand. Back to the ben...</td>\n",
       "      <td>ENGLISH</td>\n",
       "    </tr>\n",
       "  </tbody>\n",
       "</table>\n",
       "</div>"
      ],
      "text/plain": [
       "             ALink                    SName  \\\n",
       "0  /10000-maniacs/           More Than This   \n",
       "1  /10000-maniacs/        Because The Night   \n",
       "2  /10000-maniacs/           These Are Days   \n",
       "3  /10000-maniacs/          A Campfire Song   \n",
       "4  /10000-maniacs/  Everyday Is Like Sunday   \n",
       "\n",
       "                                         SLink  \\\n",
       "0           /10000-maniacs/more-than-this.html   \n",
       "1        /10000-maniacs/because-the-night.html   \n",
       "2           /10000-maniacs/these-are-days.html   \n",
       "3          /10000-maniacs/a-campfire-song.html   \n",
       "4  /10000-maniacs/everyday-is-like-sunday.html   \n",
       "\n",
       "                                               Lyric    Idiom  \n",
       "0  I could feel at the time. There was no way of ...  ENGLISH  \n",
       "1  Take me now, baby, here as I am. Hold me close...  ENGLISH  \n",
       "2  These are. These are days you'll remember. Nev...  ENGLISH  \n",
       "3  A lie to say, \"O my mountain has coal veins an...  ENGLISH  \n",
       "4  Trudging slowly over wet sand. Back to the ben...  ENGLISH  "
      ]
     },
     "execution_count": 3,
     "metadata": {},
     "output_type": "execute_result"
    }
   ],
   "source": [
    "# first few rows\n",
    "df.head()"
   ]
  },
  {
   "cell_type": "markdown",
   "metadata": {
    "papermill": {
     "duration": 0.018179,
     "end_time": "2021-02-15T05:03:19.488257",
     "exception": false,
     "start_time": "2021-02-15T05:03:19.470078",
     "status": "completed"
    },
    "tags": []
   },
   "source": [
    "So we are going to do text generation,we don't need require others column so we will drop it.But I am not going to drop Idiom column as I have to take english songs,so this column is require for subsetting the dataset "
   ]
  },
  {
   "cell_type": "code",
   "execution_count": 4,
   "metadata": {
    "execution": {
     "iopub.execute_input": "2021-02-15T05:03:19.538180Z",
     "iopub.status.busy": "2021-02-15T05:03:19.536639Z",
     "iopub.status.idle": "2021-02-15T05:03:19.539052Z",
     "shell.execute_reply": "2021-02-15T05:03:19.539471Z"
    },
    "papermill": {
     "duration": 0.032716,
     "end_time": "2021-02-15T05:03:19.539594",
     "exception": false,
     "start_time": "2021-02-15T05:03:19.506878",
     "status": "completed"
    },
    "tags": []
   },
   "outputs": [],
   "source": [
    "# drop\n",
    "df.drop(['ALink','SName','SLink'],axis=1,inplace=True)"
   ]
  },
  {
   "cell_type": "code",
   "execution_count": 5,
   "metadata": {
    "execution": {
     "iopub.execute_input": "2021-02-15T05:03:19.580226Z",
     "iopub.status.busy": "2021-02-15T05:03:19.579728Z",
     "iopub.status.idle": "2021-02-15T05:03:19.584872Z",
     "shell.execute_reply": "2021-02-15T05:03:19.585249Z"
    },
    "papermill": {
     "duration": 0.027076,
     "end_time": "2021-02-15T05:03:19.585371",
     "exception": false,
     "start_time": "2021-02-15T05:03:19.558295",
     "status": "completed"
    },
    "tags": []
   },
   "outputs": [
    {
     "data": {
      "text/plain": [
       "(209522, 2)"
      ]
     },
     "execution_count": 5,
     "metadata": {},
     "output_type": "execute_result"
    }
   ],
   "source": [
    "# shape\n",
    "df.shape"
   ]
  },
  {
   "cell_type": "code",
   "execution_count": 6,
   "metadata": {
    "execution": {
     "iopub.execute_input": "2021-02-15T05:03:19.671071Z",
     "iopub.status.busy": "2021-02-15T05:03:19.667086Z",
     "iopub.status.idle": "2021-02-15T05:03:19.673730Z",
     "shell.execute_reply": "2021-02-15T05:03:19.674169Z"
    },
    "papermill": {
     "duration": 0.070054,
     "end_time": "2021-02-15T05:03:19.674285",
     "exception": false,
     "start_time": "2021-02-15T05:03:19.604231",
     "status": "completed"
    },
    "tags": []
   },
   "outputs": [
    {
     "data": {
      "text/plain": [
       "ENGLISH           114723\n",
       "PORTUGUESE         85085\n",
       "SPANISH             4812\n",
       "ITALIAN              626\n",
       "FRENCH               471\n",
       "GERMAN               314\n",
       "KINYARWANDA           88\n",
       "ICELANDIC             47\n",
       "SWEDISH               27\n",
       "FINNISH               24\n",
       "INDONESIAN            17\n",
       "GALICIAN              12\n",
       "ESTONIAN              12\n",
       "IRISH                  9\n",
       "HAITIAN_CREOLE         9\n",
       "DANISH                 9\n",
       "BASQUE                 8\n",
       "NORWEGIAN              7\n",
       "CROATIAN               7\n",
       "TAGALOG                7\n",
       "CATALAN                6\n",
       "SUNDANESE              6\n",
       "DUTCH                  5\n",
       "SWAHILI                5\n",
       "MALAY                  4\n",
       "RUSSIAN                4\n",
       "SERBIAN                3\n",
       "JAPANESE               2\n",
       "TURKISH                2\n",
       "NYANJA                 2\n",
       "SESOTHO                2\n",
       "KURDISH                2\n",
       "ARABIC                 2\n",
       "CEBUANO                2\n",
       "MALAGASY               2\n",
       "WELSH                  1\n",
       "KOREAN                 1\n",
       "AFRIKAANS              1\n",
       "ROMANIAN               1\n",
       "GANDA                  1\n",
       "SLOVENIAN              1\n",
       "HMONG                  1\n",
       "HUNGARIAN              1\n",
       "POLISH                 1\n",
       "CZECH                  1\n",
       "SLOVAK                 1\n",
       "BOSNIAN                1\n",
       "Name: Idiom, dtype: int64"
      ]
     },
     "execution_count": 6,
     "metadata": {},
     "output_type": "execute_result"
    }
   ],
   "source": [
    "# value count\n",
    "df['Idiom'].value_counts()"
   ]
  },
  {
   "cell_type": "markdown",
   "metadata": {
    "papermill": {
     "duration": 0.019202,
     "end_time": "2021-02-15T05:03:19.712711",
     "exception": false,
     "start_time": "2021-02-15T05:03:19.693509",
     "status": "completed"
    },
    "tags": []
   },
   "source": [
    "Now I want to take only english songs,so I need to subset the dataset accordingly"
   ]
  },
  {
   "cell_type": "code",
   "execution_count": 7,
   "metadata": {
    "execution": {
     "iopub.execute_input": "2021-02-15T05:03:19.780993Z",
     "iopub.status.busy": "2021-02-15T05:03:19.780217Z",
     "iopub.status.idle": "2021-02-15T05:03:19.791676Z",
     "shell.execute_reply": "2021-02-15T05:03:19.791247Z"
    },
    "papermill": {
     "duration": 0.059559,
     "end_time": "2021-02-15T05:03:19.791788",
     "exception": false,
     "start_time": "2021-02-15T05:03:19.732229",
     "status": "completed"
    },
    "tags": []
   },
   "outputs": [],
   "source": [
    "# take only english songs\n",
    "df = df[df['Idiom']=='ENGLISH']"
   ]
  },
  {
   "cell_type": "markdown",
   "metadata": {
    "papermill": {
     "duration": 0.019664,
     "end_time": "2021-02-15T05:03:19.831704",
     "exception": false,
     "start_time": "2021-02-15T05:03:19.812040",
     "status": "completed"
    },
    "tags": []
   },
   "source": [
    "I don't have much memory in this kaggle kernel.So we can't train the model on whole dataset.So I am going to take first 700 rows.If you have more memory in your local then go ahead and train the model on whole dataset"
   ]
  },
  {
   "cell_type": "code",
   "execution_count": 8,
   "metadata": {
    "execution": {
     "iopub.execute_input": "2021-02-15T05:03:19.875520Z",
     "iopub.status.busy": "2021-02-15T05:03:19.873879Z",
     "iopub.status.idle": "2021-02-15T05:03:19.876125Z",
     "shell.execute_reply": "2021-02-15T05:03:19.876563Z"
    },
    "papermill": {
     "duration": 0.025571,
     "end_time": "2021-02-15T05:03:19.876684",
     "exception": false,
     "start_time": "2021-02-15T05:03:19.851113",
     "status": "completed"
    },
    "tags": []
   },
   "outputs": [],
   "source": [
    "# take first 700 rows\n",
    "df = df[:700]"
   ]
  },
  {
   "cell_type": "code",
   "execution_count": 9,
   "metadata": {
    "execution": {
     "iopub.execute_input": "2021-02-15T05:03:19.920513Z",
     "iopub.status.busy": "2021-02-15T05:03:19.919914Z",
     "iopub.status.idle": "2021-02-15T05:03:19.923061Z",
     "shell.execute_reply": "2021-02-15T05:03:19.923465Z"
    },
    "papermill": {
     "duration": 0.027411,
     "end_time": "2021-02-15T05:03:19.923580",
     "exception": false,
     "start_time": "2021-02-15T05:03:19.896169",
     "status": "completed"
    },
    "tags": []
   },
   "outputs": [
    {
     "data": {
      "text/plain": [
       "(700, 2)"
      ]
     },
     "execution_count": 9,
     "metadata": {},
     "output_type": "execute_result"
    }
   ],
   "source": [
    "# shape\n",
    "df.shape"
   ]
  },
  {
   "cell_type": "markdown",
   "metadata": {
    "papermill": {
     "duration": 0.019677,
     "end_time": "2021-02-15T05:03:19.963077",
     "exception": false,
     "start_time": "2021-02-15T05:03:19.943400",
     "status": "completed"
    },
    "tags": []
   },
   "source": [
    "# Data Visualization"
   ]
  },
  {
   "cell_type": "code",
   "execution_count": 10,
   "metadata": {
    "execution": {
     "iopub.execute_input": "2021-02-15T05:03:20.022448Z",
     "iopub.status.busy": "2021-02-15T05:03:20.018623Z",
     "iopub.status.idle": "2021-02-15T05:03:20.025615Z",
     "shell.execute_reply": "2021-02-15T05:03:20.025153Z"
    },
    "papermill": {
     "duration": 0.042634,
     "end_time": "2021-02-15T05:03:20.025730",
     "exception": false,
     "start_time": "2021-02-15T05:03:19.983096",
     "status": "completed"
    },
    "tags": []
   },
   "outputs": [
    {
     "data": {
      "text/html": [
       "<div>\n",
       "<style scoped>\n",
       "    .dataframe tbody tr th:only-of-type {\n",
       "        vertical-align: middle;\n",
       "    }\n",
       "\n",
       "    .dataframe tbody tr th {\n",
       "        vertical-align: top;\n",
       "    }\n",
       "\n",
       "    .dataframe thead th {\n",
       "        text-align: right;\n",
       "    }\n",
       "</style>\n",
       "<table border=\"1\" class=\"dataframe\">\n",
       "  <thead>\n",
       "    <tr style=\"text-align: right;\">\n",
       "      <th></th>\n",
       "      <th>Lyric</th>\n",
       "      <th>Idiom</th>\n",
       "      <th>Number_of_words</th>\n",
       "    </tr>\n",
       "  </thead>\n",
       "  <tbody>\n",
       "    <tr>\n",
       "      <th>0</th>\n",
       "      <td>I could feel at the time. There was no way of ...</td>\n",
       "      <td>ENGLISH</td>\n",
       "      <td>145</td>\n",
       "    </tr>\n",
       "    <tr>\n",
       "      <th>1</th>\n",
       "      <td>Take me now, baby, here as I am. Hold me close...</td>\n",
       "      <td>ENGLISH</td>\n",
       "      <td>238</td>\n",
       "    </tr>\n",
       "    <tr>\n",
       "      <th>2</th>\n",
       "      <td>These are. These are days you'll remember. Nev...</td>\n",
       "      <td>ENGLISH</td>\n",
       "      <td>172</td>\n",
       "    </tr>\n",
       "    <tr>\n",
       "      <th>3</th>\n",
       "      <td>A lie to say, \"O my mountain has coal veins an...</td>\n",
       "      <td>ENGLISH</td>\n",
       "      <td>263</td>\n",
       "    </tr>\n",
       "    <tr>\n",
       "      <th>4</th>\n",
       "      <td>Trudging slowly over wet sand. Back to the ben...</td>\n",
       "      <td>ENGLISH</td>\n",
       "      <td>118</td>\n",
       "    </tr>\n",
       "  </tbody>\n",
       "</table>\n",
       "</div>"
      ],
      "text/plain": [
       "                                               Lyric    Idiom  Number_of_words\n",
       "0  I could feel at the time. There was no way of ...  ENGLISH              145\n",
       "1  Take me now, baby, here as I am. Hold me close...  ENGLISH              238\n",
       "2  These are. These are days you'll remember. Nev...  ENGLISH              172\n",
       "3  A lie to say, \"O my mountain has coal veins an...  ENGLISH              263\n",
       "4  Trudging slowly over wet sand. Back to the ben...  ENGLISH              118"
      ]
     },
     "execution_count": 10,
     "metadata": {},
     "output_type": "execute_result"
    }
   ],
   "source": [
    "df['Number_of_words'] = df['Lyric'].apply(lambda x:len(str(x).split()))\n",
    "df.head()"
   ]
  },
  {
   "cell_type": "code",
   "execution_count": 11,
   "metadata": {
    "execution": {
     "iopub.execute_input": "2021-02-15T05:03:20.071476Z",
     "iopub.status.busy": "2021-02-15T05:03:20.070422Z",
     "iopub.status.idle": "2021-02-15T05:03:20.079512Z",
     "shell.execute_reply": "2021-02-15T05:03:20.079000Z"
    },
    "papermill": {
     "duration": 0.032856,
     "end_time": "2021-02-15T05:03:20.079612",
     "exception": false,
     "start_time": "2021-02-15T05:03:20.046756",
     "status": "completed"
    },
    "tags": []
   },
   "outputs": [
    {
     "data": {
      "text/plain": [
       "count    700.000000\n",
       "mean     251.608571\n",
       "std       99.355784\n",
       "min        9.000000\n",
       "25%      178.000000\n",
       "50%      246.000000\n",
       "75%      309.000000\n",
       "max      656.000000\n",
       "Name: Number_of_words, dtype: float64"
      ]
     },
     "execution_count": 11,
     "metadata": {},
     "output_type": "execute_result"
    }
   ],
   "source": [
    "# statistical info\n",
    "df['Number_of_words'].describe()"
   ]
  },
  {
   "cell_type": "markdown",
   "metadata": {
    "papermill": {
     "duration": 0.020607,
     "end_time": "2021-02-15T05:03:20.121225",
     "exception": false,
     "start_time": "2021-02-15T05:03:20.100618",
     "status": "completed"
    },
    "tags": []
   },
   "source": [
    "So from above we can see the max length is 656 and average song lyrics words length is 251"
   ]
  },
  {
   "cell_type": "markdown",
   "metadata": {
    "papermill": {
     "duration": 0.020741,
     "end_time": "2021-02-15T05:03:20.162771",
     "exception": false,
     "start_time": "2021-02-15T05:03:20.142030",
     "status": "completed"
    },
    "tags": []
   },
   "source": [
    "### Frequency distribution of number of words"
   ]
  },
  {
   "cell_type": "code",
   "execution_count": 12,
   "metadata": {
    "execution": {
     "iopub.execute_input": "2021-02-15T05:03:20.217243Z",
     "iopub.status.busy": "2021-02-15T05:03:20.216567Z",
     "iopub.status.idle": "2021-02-15T05:03:20.672568Z",
     "shell.execute_reply": "2021-02-15T05:03:20.672986Z"
    },
    "papermill": {
     "duration": 0.482393,
     "end_time": "2021-02-15T05:03:20.673133",
     "exception": false,
     "start_time": "2021-02-15T05:03:20.190740",
     "status": "completed"
    },
    "tags": []
   },
   "outputs": [
    {
     "name": "stderr",
     "output_type": "stream",
     "text": [
      "/opt/conda/lib/python3.7/site-packages/seaborn/distributions.py:2557: FutureWarning: `distplot` is a deprecated function and will be removed in a future version. Please adapt your code to use either `displot` (a figure-level function with similar flexibility) or `histplot` (an axes-level function for histograms).\n",
      "  warnings.warn(msg, FutureWarning)\n"
     ]
    },
    {
     "data": {
      "text/plain": [
       "Text(0.5, 1.0, 'Frequency distribution of number of words for each text extracted')"
      ]
     },
     "execution_count": 12,
     "metadata": {},
     "output_type": "execute_result"
    },
    {
     "data": {
      "image/png": "[encoded data removed]",
      "text/plain": [
       "<Figure size 864x432 with 1 Axes>"
      ]
     },
     "metadata": {},
     "output_type": "display_data"
    }
   ],
   "source": [
    "import matplotlib.pyplot as plt\n",
    "plt.style.use('ggplot')\n",
    "plt.figure(figsize=(12,6))\n",
    "sns.distplot(df['Number_of_words'],kde = False,color=\"red\",bins=200)\n",
    "plt.title(\"Frequency distribution of number of words for each text extracted\", size=20)"
   ]
  },
  {
   "cell_type": "markdown",
   "metadata": {
    "papermill": {
     "duration": 0.022285,
     "end_time": "2021-02-15T05:03:20.718116",
     "exception": false,
     "start_time": "2021-02-15T05:03:20.695831",
     "status": "completed"
    },
    "tags": []
   },
   "source": [
    "# Data Preprocessing"
   ]
  },
  {
   "cell_type": "markdown",
   "metadata": {
    "papermill": {
     "duration": 0.02251,
     "end_time": "2021-02-15T05:03:20.763226",
     "exception": false,
     "start_time": "2021-02-15T05:03:20.740716",
     "status": "completed"
    },
    "tags": []
   },
   "source": [
    "First of all we are going to do tokenization then we will generate sequence of n-grams.After that we will going to do padding.Padding is required because all the sentences are of different length so we need to make them of same length.We will going to do this by adding 0 in the beginning of the text with the help of pad_sequences function of keras"
   ]
  },
  {
   "cell_type": "code",
   "execution_count": 13,
   "metadata": {
    "execution": {
     "iopub.execute_input": "2021-02-15T05:03:20.835726Z",
     "iopub.status.busy": "2021-02-15T05:03:20.825109Z",
     "iopub.status.idle": "2021-02-15T05:03:21.029127Z",
     "shell.execute_reply": "2021-02-15T05:03:21.029539Z"
    },
    "papermill": {
     "duration": 0.243604,
     "end_time": "2021-02-15T05:03:21.029673",
     "exception": false,
     "start_time": "2021-02-15T05:03:20.786069",
     "status": "completed"
    },
    "tags": []
   },
   "outputs": [
    {
     "data": {
      "text/plain": [
       "[2,\n",
       " 75,\n",
       " 67,\n",
       " 81,\n",
       " 1,\n",
       " 32,\n",
       " 74,\n",
       " 53,\n",
       " 41,\n",
       " 60,\n",
       " 10,\n",
       " 565,\n",
       " 1029,\n",
       " 1080,\n",
       " 9,\n",
       " 1,\n",
       " 154,\n",
       " 92,\n",
       " 35,\n",
       " 52,\n",
       " 76,\n",
       " 312,\n",
       " 1465,\n",
       " 62,\n",
       " 313,\n",
       " 62,\n",
       " 1,\n",
       " 681,\n",
       " 3607,\n",
       " 1907,\n",
       " 122,\n",
       " 1,\n",
       " 404,\n",
       " 21,\n",
       " 1,\n",
       " 682,\n",
       " 181,\n",
       " 41,\n",
       " 60,\n",
       " 10,\n",
       " 755,\n",
       " 103,\n",
       " 149,\n",
       " 16,\n",
       " 3,\n",
       " 23,\n",
       " 80,\n",
       " 131,\n",
       " 103,\n",
       " 149,\n",
       " 16,\n",
       " 85,\n",
       " 7,\n",
       " 42,\n",
       " 135,\n",
       " 103,\n",
       " 149,\n",
       " 16,\n",
       " 3,\n",
       " 23,\n",
       " 80,\n",
       " 131,\n",
       " 8,\n",
       " 53,\n",
       " 517,\n",
       " 22,\n",
       " 6,\n",
       " 185,\n",
       " 74,\n",
       " 53,\n",
       " 41,\n",
       " 60,\n",
       " 10,\n",
       " 565,\n",
       " 33,\n",
       " 6,\n",
       " 332,\n",
       " 9,\n",
       " 1,\n",
       " 154,\n",
       " 92,\n",
       " 35,\n",
       " 52,\n",
       " 76,\n",
       " 142,\n",
       " 157,\n",
       " 41,\n",
       " 263,\n",
       " 9,\n",
       " 1,\n",
       " 79,\n",
       " 258,\n",
       " 14,\n",
       " 1907,\n",
       " 122,\n",
       " 1,\n",
       " 404,\n",
       " 21,\n",
       " 1,\n",
       " 682,\n",
       " 181,\n",
       " 41,\n",
       " 60,\n",
       " 10,\n",
       " 755,\n",
       " 103,\n",
       " 149,\n",
       " 16,\n",
       " 3,\n",
       " 23,\n",
       " 80,\n",
       " 131,\n",
       " 103,\n",
       " 149,\n",
       " 16,\n",
       " 85,\n",
       " 7,\n",
       " 42,\n",
       " 135,\n",
       " 103,\n",
       " 149,\n",
       " 16,\n",
       " 3,\n",
       " 23,\n",
       " 80,\n",
       " 131,\n",
       " 103,\n",
       " 149,\n",
       " 16,\n",
       " 3,\n",
       " 23,\n",
       " 80,\n",
       " 131,\n",
       " 103,\n",
       " 149,\n",
       " 16,\n",
       " 85,\n",
       " 7,\n",
       " 42,\n",
       " 135,\n",
       " 103,\n",
       " 149,\n",
       " 16,\n",
       " 80,\n",
       " 131]"
      ]
     },
     "execution_count": 13,
     "metadata": {},
     "output_type": "execute_result"
    }
   ],
   "source": [
    "# Tokenization\n",
    "tokenizer = Tokenizer()\n",
    "tokenizer.fit_on_texts(df['Lyric'].astype(str).str.lower())\n",
    "\n",
    "total_words = len(tokenizer.word_index)+1\n",
    "tokenized_sentences = tokenizer.texts_to_sequences(df['Lyric'].astype(str))\n",
    "tokenized_sentences[0]"
   ]
  },
  {
   "cell_type": "code",
   "execution_count": 14,
   "metadata": {
    "execution": {
     "iopub.execute_input": "2021-02-15T05:03:21.255398Z",
     "iopub.status.busy": "2021-02-15T05:03:21.088765Z",
     "iopub.status.idle": "2021-02-15T05:03:27.843109Z",
     "shell.execute_reply": "2021-02-15T05:03:27.842044Z"
    },
    "papermill": {
     "duration": 6.790078,
     "end_time": "2021-02-15T05:03:27.843256",
     "exception": false,
     "start_time": "2021-02-15T05:03:21.053178",
     "status": "completed"
    },
    "tags": []
   },
   "outputs": [],
   "source": [
    "# Slash sequences into n gram sequence\n",
    "input_sequences = list()\n",
    "for i in tokenized_sentences:\n",
    "    for t in range(1, len(i)):\n",
    "        n_gram_sequence = i[:t+1]\n",
    "        input_sequences.append(n_gram_sequence)\n",
    "        \n",
    "# Pre padding\n",
    "max_sequence_len = max([len(x) for x in input_sequences])\n",
    "input_sequences = np.array(pad_sequences(input_sequences, maxlen=max_sequence_len, padding='pre'))"
   ]
  },
  {
   "cell_type": "code",
   "execution_count": 15,
   "metadata": {
    "execution": {
     "iopub.execute_input": "2021-02-15T05:03:27.896939Z",
     "iopub.status.busy": "2021-02-15T05:03:27.896155Z",
     "iopub.status.idle": "2021-02-15T05:03:27.899853Z",
     "shell.execute_reply": "2021-02-15T05:03:27.899417Z"
    },
    "papermill": {
     "duration": 0.03327,
     "end_time": "2021-02-15T05:03:27.899959",
     "exception": false,
     "start_time": "2021-02-15T05:03:27.866689",
     "status": "completed"
    },
    "tags": []
   },
   "outputs": [
    {
     "data": {
      "text/plain": [
       "array([[ 0,  0,  0, ...,  0,  2, 75],\n",
       "       [ 0,  0,  0, ...,  2, 75, 67],\n",
       "       [ 0,  0,  0, ..., 75, 67, 81],\n",
       "       ...,\n",
       "       [ 0,  0,  0, ..., 74, 53, 41],\n",
       "       [ 0,  0,  0, ..., 53, 41, 60],\n",
       "       [ 0,  0,  0, ..., 41, 60, 10]], dtype=int32)"
      ]
     },
     "execution_count": 15,
     "metadata": {},
     "output_type": "execute_result"
    }
   ],
   "source": [
    "input_sequences[:10]"
   ]
  },
  {
   "cell_type": "markdown",
   "metadata": {
    "papermill": {
     "duration": 0.02322,
     "end_time": "2021-02-15T05:03:27.946414",
     "exception": false,
     "start_time": "2021-02-15T05:03:27.923194",
     "status": "completed"
    },
    "tags": []
   },
   "source": [
    "For the model, we need to create predictors and label. We are going to create N-grams sequence as predictors and the next word of the N-gram as label. "
   ]
  },
  {
   "cell_type": "code",
   "execution_count": 16,
   "metadata": {
    "execution": {
     "iopub.execute_input": "2021-02-15T05:03:27.998226Z",
     "iopub.status.busy": "2021-02-15T05:03:27.997253Z",
     "iopub.status.idle": "2021-02-15T05:03:28.339712Z",
     "shell.execute_reply": "2021-02-15T05:03:28.339199Z"
    },
    "papermill": {
     "duration": 0.369955,
     "end_time": "2021-02-15T05:03:28.339838",
     "exception": false,
     "start_time": "2021-02-15T05:03:27.969883",
     "status": "completed"
    },
    "tags": []
   },
   "outputs": [],
   "source": [
    "# create predictors and label\n",
    "X, labels = input_sequences[:,:-1],input_sequences[:,-1]\n",
    "y = tf.keras.utils.to_categorical(labels, num_classes=total_words)"
   ]
  },
  {
   "cell_type": "markdown",
   "metadata": {
    "papermill": {
     "duration": 0.023492,
     "end_time": "2021-02-15T05:03:28.387737",
     "exception": false,
     "start_time": "2021-02-15T05:03:28.364245",
     "status": "completed"
    },
    "tags": []
   },
   "source": [
    "# Model"
   ]
  },
  {
   "cell_type": "markdown",
   "metadata": {
    "papermill": {
     "duration": 0.02322,
     "end_time": "2021-02-15T05:03:28.434355",
     "exception": false,
     "start_time": "2021-02-15T05:03:28.411135",
     "status": "completed"
    },
    "tags": []
   },
   "source": [
    "We will not going to create RNN model due to its vanishing gradient problem instead of that we will going to create LSTM model.LSTMs have an additional state called ‘cell state’ through which the network makes adjustments in the information flow. The advantage of this state is that the model can remember or forget the leanings more selectively."
   ]
  },
  {
   "cell_type": "code",
   "execution_count": 17,
   "metadata": {
    "execution": {
     "iopub.execute_input": "2021-02-15T05:03:28.487798Z",
     "iopub.status.busy": "2021-02-15T05:03:28.487081Z",
     "iopub.status.idle": "2021-02-15T06:51:31.960999Z",
     "shell.execute_reply": "2021-02-15T06:51:31.961481Z"
    },
    "papermill": {
     "duration": 6483.50384,
     "end_time": "2021-02-15T06:51:31.961638",
     "exception": false,
     "start_time": "2021-02-15T05:03:28.457798",
     "status": "completed"
    },
    "tags": []
   },
   "outputs": [
    {
     "name": "stdout",
     "output_type": "stream",
     "text": [
      "Epoch 1/10\n",
      "5492/5492 [==============================] - 651s 117ms/step - loss: 6.3248 - accuracy: 0.0512\n",
      "Epoch 2/10\n",
      "5492/5492 [==============================] - 645s 117ms/step - loss: 5.2252 - accuracy: 0.1271\n",
      "Epoch 3/10\n",
      "5492/5492 [==============================] - 643s 117ms/step - loss: 4.4643 - accuracy: 0.2053\n",
      "Epoch 4/10\n",
      "5492/5492 [==============================] - 645s 117ms/step - loss: 3.8444 - accuracy: 0.2841\n",
      "Epoch 5/10\n",
      "5492/5492 [==============================] - 647s 118ms/step - loss: 3.3736 - accuracy: 0.3512\n",
      "Epoch 6/10\n",
      "5492/5492 [==============================] - 649s 118ms/step - loss: 3.0025 - accuracy: 0.4037\n",
      "Epoch 7/10\n",
      "5492/5492 [==============================] - 649s 118ms/step - loss: 2.7241 - accuracy: 0.4485\n",
      "Epoch 8/10\n",
      "5492/5492 [==============================] - 649s 118ms/step - loss: 2.5014 - accuracy: 0.4836\n",
      "Epoch 9/10\n",
      "5492/5492 [==============================] - 648s 118ms/step - loss: 2.3232 - accuracy: 0.5123\n",
      "Epoch 10/10\n",
      "5492/5492 [==============================] - 648s 118ms/step - loss: 2.1771 - accuracy: 0.5389\n"
     ]
    }
   ],
   "source": [
    "# create model\n",
    "model = Sequential()\n",
    "model.add(Embedding(total_words, 40, input_length=max_sequence_len-1))\n",
    "model.add(Bidirectional(LSTM(250)))\n",
    "model.add(Dropout(0.1))\n",
    "model.add(Dense(total_words, activation='softmax'))\n",
    "model.compile(loss='categorical_crossentropy', optimizer='adam', metrics=['accuracy'])\n",
    "earlystop = EarlyStopping(monitor='loss', min_delta=0, patience=3, verbose=0, mode='auto')\n",
    "history = model.fit(X, y, epochs=10, verbose=1, callbacks=[earlystop])"
   ]
  },
  {
   "cell_type": "markdown",
   "metadata": {
    "papermill": {
     "duration": 14.73282,
     "end_time": "2021-02-15T06:52:01.068159",
     "exception": false,
     "start_time": "2021-02-15T06:51:46.335339",
     "status": "completed"
    },
    "tags": []
   },
   "source": [
    "Increase the epochs to increase the accuracy.I haven't done that because it is taking a very long time"
   ]
  },
  {
   "cell_type": "code",
   "execution_count": 18,
   "metadata": {
    "execution": {
     "iopub.execute_input": "2021-02-15T06:52:30.379828Z",
     "iopub.status.busy": "2021-02-15T06:52:30.378415Z",
     "iopub.status.idle": "2021-02-15T06:52:30.499105Z",
     "shell.execute_reply": "2021-02-15T06:52:30.498662Z"
    },
    "papermill": {
     "duration": 15.152805,
     "end_time": "2021-02-15T06:52:30.499220",
     "exception": false,
     "start_time": "2021-02-15T06:52:15.346415",
     "status": "completed"
    },
    "tags": []
   },
   "outputs": [
    {
     "data": {
      "image/png": "[encoded data removed]",
      "text/plain": [
       "<Figure size 432x288 with 1 Axes>"
      ]
     },
     "metadata": {},
     "output_type": "display_data"
    },
    {
     "data": {
      "text/plain": [
       "<Figure size 432x288 with 0 Axes>"
      ]
     },
     "metadata": {},
     "output_type": "display_data"
    }
   ],
   "source": [
    "# plot the accuracy\n",
    "plt.plot(history.history['accuracy'], label='train acc')\n",
    "plt.legend()\n",
    "plt.show()\n",
    "plt.savefig('AccVal_acc')"
   ]
  },
  {
   "cell_type": "markdown",
   "metadata": {
    "papermill": {
     "duration": 14.702692,
     "end_time": "2021-02-15T06:52:59.833767",
     "exception": false,
     "start_time": "2021-02-15T06:52:45.131075",
     "status": "completed"
    },
    "tags": []
   },
   "source": [
    "# Generate new song lyrics"
   ]
  },
  {
   "cell_type": "markdown",
   "metadata": {
    "papermill": {
     "duration": 14.179644,
     "end_time": "2021-02-15T06:53:28.605485",
     "exception": false,
     "start_time": "2021-02-15T06:53:14.425841",
     "status": "completed"
    },
    "tags": []
   },
   "source": [
    "Now our model is ready.So lets write the function to predict the next word based on the input words (or seed text). We will first tokenize the seed text, pad the sequences and pass into the trained model to get predicted word. The multiple predicted words can be appended together to get predicted sequence."
   ]
  },
  {
   "cell_type": "code",
   "execution_count": 19,
   "metadata": {
    "execution": {
     "iopub.execute_input": "2021-02-15T06:53:57.743885Z",
     "iopub.status.busy": "2021-02-15T06:53:57.743152Z",
     "iopub.status.idle": "2021-02-15T06:53:57.745455Z",
     "shell.execute_reply": "2021-02-15T06:53:57.745946Z"
    },
    "papermill": {
     "duration": 14.363407,
     "end_time": "2021-02-15T06:53:57.746095",
     "exception": false,
     "start_time": "2021-02-15T06:53:43.382688",
     "status": "completed"
    },
    "tags": []
   },
   "outputs": [],
   "source": [
    "def complete_this_song(seed_text, next_words):\n",
    "    for _ in range(next_words):\n",
    "        token_list = tokenizer.texts_to_sequences([seed_text])[0]\n",
    "        token_list = pad_sequences([token_list], maxlen=max_sequence_len-1, padding='pre')\n",
    "        predicted = model.predict_classes(token_list, verbose=0)\n",
    "        \n",
    "        output_word = \"\"\n",
    "        for word, index in tokenizer.word_index.items():\n",
    "            if index == predicted:\n",
    "                output_word = word\n",
    "                break\n",
    "        seed_text += \" \" + output_word\n",
    "    return seed_text"
   ]
  },
  {
   "cell_type": "markdown",
   "metadata": {
    "papermill": {
     "duration": 14.080463,
     "end_time": "2021-02-15T06:54:26.620256",
     "exception": false,
     "start_time": "2021-02-15T06:54:12.539793",
     "status": "completed"
    },
    "tags": []
   },
   "source": [
    "Our function is ready so are you ready to generate your own lyrics"
   ]
  },
  {
   "cell_type": "code",
   "execution_count": 20,
   "metadata": {
    "execution": {
     "iopub.execute_input": "2021-02-15T06:54:55.802641Z",
     "iopub.status.busy": "2021-02-15T06:54:55.802091Z",
     "iopub.status.idle": "2021-02-15T06:54:58.570527Z",
     "shell.execute_reply": "2021-02-15T06:54:58.569963Z"
    },
    "papermill": {
     "duration": 16.833152,
     "end_time": "2021-02-15T06:54:58.570667",
     "exception": false,
     "start_time": "2021-02-15T06:54:41.737515",
     "status": "completed"
    },
    "tags": []
   },
   "outputs": [
    {
     "name": "stderr",
     "output_type": "stream",
     "text": [
      "/opt/conda/lib/python3.7/site-packages/tensorflow/python/keras/engine/sequential.py:450: UserWarning: `model.predict_classes()` is deprecated and will be removed after 2021-01-01. Please use instead:* `np.argmax(model.predict(x), axis=-1)`,   if your model does multi-class classification   (e.g. if it uses a `softmax` last-layer activation).* `(model.predict(x) > 0.5).astype(\"int32\")`,   if your model does binary classification   (e.g. if it uses a `sigmoid` last-layer activation).\n",
      "  warnings.warn('`model.predict_classes()` is deprecated and '\n"
     ]
    },
    {
     "data": {
      "text/plain": [
       "\"the sky is blue to the water the sky the pain that lies you will take me the lowly one and i hope that you don't know who i am and taught me how it i am but where i had to look to\""
      ]
     },
     "execution_count": 20,
     "metadata": {},
     "output_type": "execute_result"
    }
   ],
   "source": [
    "complete_this_song(\"the sky is blue\", 40)"
   ]
  },
  {
   "cell_type": "code",
   "execution_count": 21,
   "metadata": {
    "execution": {
     "iopub.execute_input": "2021-02-15T06:55:27.704266Z",
     "iopub.status.busy": "2021-02-15T06:55:27.703368Z",
     "iopub.status.idle": "2021-02-15T06:55:35.383627Z",
     "shell.execute_reply": "2021-02-15T06:55:35.384671Z"
    },
    "papermill": {
     "duration": 22.007345,
     "end_time": "2021-02-15T06:55:35.385010",
     "exception": false,
     "start_time": "2021-02-15T06:55:13.377665",
     "status": "completed"
    },
    "tags": []
   },
   "outputs": [
    {
     "data": {
      "text/plain": [
       "\"This is the beginning of the end and i still take the way i feel the way i feel inside and i promise to be the one to the world i think about the pain i feel tonight and i feel the one to lead my mind i know where i need to be the one to the one to the sky i think about the pain i feel tonight and i know i need you to you know i get the best of me i can't believe i trusted every word you said it's the only thing that you love and i know i need you to take a right home and i hope that i don't fall in the valley of california i've been a new card i don't believe to be scared to the end of the end of the world\""
      ]
     },
     "execution_count": 21,
     "metadata": {},
     "output_type": "execute_result"
    }
   ],
   "source": [
    "complete_this_song(\"This is the beginning\", 140)"
   ]
  },
  {
   "cell_type": "code",
   "execution_count": 22,
   "metadata": {
    "execution": {
     "iopub.execute_input": "2021-02-15T06:56:04.441533Z",
     "iopub.status.busy": "2021-02-15T06:56:04.440727Z",
     "iopub.status.idle": "2021-02-15T06:56:08.889452Z",
     "shell.execute_reply": "2021-02-15T06:56:08.888974Z"
    },
    "papermill": {
     "duration": 18.595482,
     "end_time": "2021-02-15T06:56:08.889583",
     "exception": false,
     "start_time": "2021-02-15T06:55:50.294101",
     "status": "completed"
    },
    "tags": []
   },
   "outputs": [
    {
     "data": {
      "text/plain": [
       "\"I am missing you for me i'm not blind to be here but i don't have to the life but i know that i had sworn i'd never let you go and i never did i said i'd never let you go and i never did i said i'd never let you go and i never did i said i'd never let you go and i never did i said i'd never let you go and i never did i said i'd never let\""
      ]
     },
     "execution_count": 22,
     "metadata": {},
     "output_type": "execute_result"
    }
   ],
   "source": [
    "complete_this_song(\"I am missing you\", 80)"
   ]
  },
  {
   "cell_type": "markdown",
   "metadata": {
    "papermill": {
     "duration": 14.201535,
     "end_time": "2021-02-15T06:56:37.915636",
     "exception": false,
     "start_time": "2021-02-15T06:56:23.714101",
     "status": "completed"
    },
    "tags": []
   },
   "source": [
    "# Save the model"
   ]
  },
  {
   "cell_type": "code",
   "execution_count": 23,
   "metadata": {
    "execution": {
     "iopub.execute_input": "2021-02-15T06:57:07.159729Z",
     "iopub.status.busy": "2021-02-15T06:57:07.159020Z",
     "iopub.status.idle": "2021-02-15T06:57:07.295534Z",
     "shell.execute_reply": "2021-02-15T06:57:07.294662Z"
    },
    "papermill": {
     "duration": 14.325748,
     "end_time": "2021-02-15T06:57:07.295674",
     "exception": false,
     "start_time": "2021-02-15T06:56:52.969926",
     "status": "completed"
    },
    "tags": []
   },
   "outputs": [],
   "source": [
    "# save model\n",
    "from tensorflow.keras.models import load_model\n",
    "model.save('song_lyrics_generator.h5')"
   ]
  },
  {
   "cell_type": "markdown",
   "metadata": {
    "papermill": {
     "duration": 14.646178,
     "end_time": "2021-02-15T06:57:36.539163",
     "exception": false,
     "start_time": "2021-02-15T06:57:21.892985",
     "status": "completed"
    },
    "tags": []
   },
   "source": [
    "**Well that's done, in future I am going to update this notebook after learning more about text generation and don't forget to upvote it if you like it**\n"
   ]
  }
 ],
 "metadata": {
  "kernelspec": {
   "display_name": "Python 3",
   "language": "python",
   "name": "python3"
  },
  "language_info": {
   "codemirror_mode": {
    "name": "ipython",
    "version": 3
   },
   "file_extension": ".py",
   "mimetype": "text/x-python",
   "name": "python",
   "nbconvert_exporter": "python",
   "pygments_lexer": "ipython3",
   "version": "3.7.9"
  },
  "papermill": {
   "default_parameters": {},
   "duration": 6890.786487,
   "end_time": "2021-02-15T06:57:54.083462",
   "environment_variables": {},
   "exception": null,
   "input_path": "__notebook__.ipynb",
   "output_path": "__notebook__.ipynb",
   "parameters": {},
   "start_time": "2021-02-15T05:03:03.296975",
   "version": "2.2.2"
  }
 },
 "nbformat": 4,
 "nbformat_minor": 4
}
